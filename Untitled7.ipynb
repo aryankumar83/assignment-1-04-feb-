{
 "cells": [
  {
   "cell_type": "code",
   "execution_count": 10,
   "id": "8d3414d1",
   "metadata": {},
   "outputs": [
    {
     "name": "stdout",
     "output_type": "stream",
     "text": [
      "[('Virat Kohli', 24936), ('Jack Kallis', 25534), ('Ricky Ponting', 27483), ('Sachin Tendulkar', 34357)]\n"
     ]
    }
   ],
   "source": [
    "# que 1:\n",
    "li = [('Sachin Tendulkar', 34357), ('Ricky Ponting', 27483), ('Jack Kallis', 25534), ('Virat Kohli', 24936)]\n",
    "li.sort(key = lambda x : x[1] )\n",
    "print(li)"
   ]
  },
  {
   "cell_type": "code",
   "execution_count": 1,
   "id": "507996f9",
   "metadata": {},
   "outputs": [],
   "source": [
    "# que 2 : \n",
    "l =[1,2,3,4,5,6,7,8,9,10]\n",
    "l1 = list(map(lambda a : a**2, l))"
   ]
  },
  {
   "cell_type": "code",
   "execution_count": 2,
   "id": "d1b6ba54",
   "metadata": {},
   "outputs": [
    {
     "name": "stdout",
     "output_type": "stream",
     "text": [
      "[1, 4, 9, 16, 25, 36, 49, 64, 81, 100]\n"
     ]
    }
   ],
   "source": [
    "print(l1)"
   ]
  },
  {
   "cell_type": "code",
   "execution_count": 3,
   "id": "6e4d63bc",
   "metadata": {},
   "outputs": [],
   "source": [
    "# que 3 : \n",
    "l = [1,2,3,4,5,6,7,8,9,10]\n",
    "t = tuple(map(lambda a:str(a),l))"
   ]
  },
  {
   "cell_type": "code",
   "execution_count": 4,
   "id": "82126c98",
   "metadata": {},
   "outputs": [
    {
     "name": "stdout",
     "output_type": "stream",
     "text": [
      "('1', '2', '3', '4', '5', '6', '7', '8', '9', '10')\n"
     ]
    }
   ],
   "source": [
    "print(t)"
   ]
  },
  {
   "cell_type": "code",
   "execution_count": 9,
   "id": "7713ad7c",
   "metadata": {},
   "outputs": [
    {
     "data": {
      "text/plain": [
       "15511210043330985984000000"
      ]
     },
     "execution_count": 9,
     "metadata": {},
     "output_type": "execute_result"
    }
   ],
   "source": [
    "# que 4 :\n",
    "from functools import reduce\n",
    "l = [1,2,3,4,5,6,7,8,9,10,11,12,13,14,15,16,17,18,19,20,21,22,23,24,25]\n",
    "reduce(lambda a,b : a*b, l)"
   ]
  },
  {
   "cell_type": "code",
   "execution_count": 12,
   "id": "2244585c",
   "metadata": {},
   "outputs": [
    {
     "data": {
      "text/plain": [
       "[6, 60, 90, 120]"
      ]
     },
     "execution_count": 12,
     "metadata": {},
     "output_type": "execute_result"
    }
   ],
   "source": [
    "# que 5 :\n",
    "li = [2, 3, 6, 9, 27, 60, 90, 120, 55, 46]\n",
    "list(filter(lambda x : x%2==0 and x%3==0 , li))"
   ]
  },
  {
   "cell_type": "code",
   "execution_count": 13,
   "id": "d5c70f07",
   "metadata": {},
   "outputs": [
    {
     "data": {
      "text/plain": [
       "['php', 'aba', 'radar', 'level']"
      ]
     },
     "execution_count": 13,
     "metadata": {},
     "output_type": "execute_result"
    }
   ],
   "source": [
    "# que 6 : \n",
    "given = ['python' ,'php' ,'aba' , 'radar' , 'level']\n",
    "list(filter(lambda x : x==x[::-1] , given))"
   ]
  }
 ],
 "metadata": {
  "kernelspec": {
   "display_name": "Python 3 (ipykernel)",
   "language": "python",
   "name": "python3"
  },
  "language_info": {
   "codemirror_mode": {
    "name": "ipython",
    "version": 3
   },
   "file_extension": ".py",
   "mimetype": "text/x-python",
   "name": "python",
   "nbconvert_exporter": "python",
   "pygments_lexer": "ipython3",
   "version": "3.10.9"
  }
 },
 "nbformat": 4,
 "nbformat_minor": 5
}
